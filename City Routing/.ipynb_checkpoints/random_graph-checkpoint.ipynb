{
 "cells": [
  {
   "cell_type": "code",
   "execution_count": 4,
   "metadata": {},
   "outputs": [
    {
     "ename": "ModuleNotFoundError",
     "evalue": "No module named 'RandomGraph'",
     "output_type": "error",
     "traceback": [
      "\u001b[1;31m---------------------------------------------------------------------------\u001b[0m",
      "\u001b[1;31mModuleNotFoundError\u001b[0m                       Traceback (most recent call last)",
      "\u001b[1;32mc:\\Users\\Shravan Bishnoi\\OneDrive\\Desktop\\AI\\Heuristic_project\\City dataset\\City dataset\\.ipynb_checkpoints\\random_graph-checkpoint.ipynb Cell 1\u001b[0m line \u001b[0;36m5\n\u001b[0;32m      <a href='vscode-notebook-cell:/c%3A/Users/Shravan%20Bishnoi/OneDrive/Desktop/AI/Heuristic_project/City%20dataset/City%20dataset/.ipynb_checkpoints/random_graph-checkpoint.ipynb#W0sZmlsZQ%3D%3D?line=2'>3</a>\u001b[0m \u001b[39mimport\u001b[39;00m \u001b[39mnetworkx\u001b[39;00m \u001b[39mas\u001b[39;00m \u001b[39mnx\u001b[39;00m\n\u001b[0;32m      <a href='vscode-notebook-cell:/c%3A/Users/Shravan%20Bishnoi/OneDrive/Desktop/AI/Heuristic_project/City%20dataset/City%20dataset/.ipynb_checkpoints/random_graph-checkpoint.ipynb#W0sZmlsZQ%3D%3D?line=3'>4</a>\u001b[0m \u001b[39mimport\u001b[39;00m \u001b[39mrandom\u001b[39;00m\n\u001b[1;32m----> <a href='vscode-notebook-cell:/c%3A/Users/Shravan%20Bishnoi/OneDrive/Desktop/AI/Heuristic_project/City%20dataset/City%20dataset/.ipynb_checkpoints/random_graph-checkpoint.ipynb#W0sZmlsZQ%3D%3D?line=4'>5</a>\u001b[0m \u001b[39mfrom\u001b[39;00m \u001b[39mRandomGraph\u001b[39;00m \u001b[39mimport\u001b[39;00m Graph\n",
      "\u001b[1;31mModuleNotFoundError\u001b[0m: No module named 'RandomGraph'"
     ]
    }
   ],
   "source": [
    "# importing the required modules\n",
    "import pandas as pd\n",
    "import networkx as nx\n",
    "import random\n",
    "from RandomGraph import Graph"
   ]
  },
  {
   "cell_type": "code",
   "execution_count": null,
   "metadata": {},
   "outputs": [
    {
     "data": {
      "text/plain": [
       "'Random connected graph saved to random_connected_graph.csv'"
      ]
     },
     "execution_count": 13,
     "metadata": {},
     "output_type": "execute_result"
    }
   ],
   "source": [
    "# reading the 'Complete_graph.csv' file\n",
    "csv_file_path = 'Complete_graph.csv'\n",
    "df = pd.read_csv(csv_file_path)\n",
    "\n",
    "G = Graph()\n",
    "\n",
    "def dropout_graph(G, df, dropout):\n",
    "    \"\"\"\n",
    "    Following function is going to create a random connected graph after removing or droping the edges between nodes in graph.\n",
    "    Amount or number of edges needs to droped is going to be decided by user with sertain condition. For doing this we use the \n",
    "    class that we created. Since we want to create connected graph the minimum dropout rate is 0 and maximum will be calculated \n",
    "    from the number of edges in the graph.\n",
    "\n",
    "    Maximum Drouout = 1 - (Total number of unique nodes in graph / Total no of edges in the graph)\n",
    "\n",
    "    Parameter G : graph class object.\n",
    "    Precondition : G must be graph class instance.\n",
    "\n",
    "    Parameter df : dataframe containg our dataset.\n",
    "    Precondition: df must be dataframe.\n",
    "\n",
    "    Parameter dropout: what percent of edges to be removed.\n",
    "    Precondition : dropout is in range [0,1).\n",
    "\n",
    "    \"\"\"\n",
    "    # Add nodes to the graph.\n",
    "    G.add_nodes(df['node1'])\n",
    "    G.add_nodes(df['node2'])\n",
    "\n",
    "    for _, row in df.iterrows():\n",
    "        node1 = row['node1']\n",
    "        node2 = row['node2']\n",
    "        route_distance = row['route_distance']\n",
    "        heuristic_distance = row['Heuristic distance']\n",
    "        G.add_edge(node1, node2, route_distance, heuristic_distance, direction = False)\n",
    "\n",
    "    # Create a random connected graph by removing randomly selected edges.\n",
    "    random_connected_graph = G.randomGraphCreater(dropout)\n",
    "\n",
    "    output_csv_file = 'random_connected_graph.csv'  \n",
    "    edge_data = list(random_connected_graph)\n",
    "    edge_df = pd.DataFrame(edge_data, columns=['node1', 'node2', 'route_distance', 'Heuristic distance'])\n",
    "    edge_df.to_csv(output_csv_file, index=False)\n",
    "    \n",
    "    return f\"Random connected graph saved to {output_csv_file}\"\n",
    "dropout_graph(G, df, 0.98)"
   ]
  },
  {
   "cell_type": "code",
   "execution_count": null,
   "metadata": {},
   "outputs": [
    {
     "data": {
      "text/plain": [
       "{'Jehanabad': [('Ghazipur', 208)],\n",
       " 'Bhagalpur': [],\n",
       " 'Durgapur': [('Ghazipur', 512), ('Jaipur', 1342)],\n",
       " 'Sikar': [('Sagar', 727), ('Bikaner', 221), ('Sitapur', 679)],\n",
       " 'Jaipur': [('Nawada', 1169), ('Durgapur', 1342)],\n",
       " 'Ghazipur': [('Bikaner', 1202),\n",
       "  ('Durgapur', 512),\n",
       "  ('Una', 1198),\n",
       "  ('Jehanabad', 208)],\n",
       " 'Gaya': [('Aligarh', 874), ('Bikaner', 1396), ('Sagar', 820)],\n",
       " 'Hanamkonda': [('Pakur', 1521)],\n",
       " 'Bikaner': [('Belagavi', 1630),\n",
       "  ('Gaya', 1396),\n",
       "  ('Ghazipur', 1202),\n",
       "  ('Patna', 1408),\n",
       "  ('Sikar', 221)],\n",
       " 'Mahoba': [('Lucknow', 229), ('Raebareli', 196)],\n",
       " 'Balaghat': [],\n",
       " 'Bhopal': [('Faridabad', 744)],\n",
       " 'Patna': [('Agra', 838), ('Bikaner', 1408)],\n",
       " 'Morena': [],\n",
       " 'Rajsamand': [('Kota', 251), ('Nawada', 1389), ('Prayagraj', 961)],\n",
       " 'Sitapur': [('Raebareli', 167), ('Sikar', 679)],\n",
       " 'Sri Ganganagar': [('Palamu', 1505), ('Sarangarh', 1620)],\n",
       " 'Palamu': [('Faridabad', 1030), ('Kota', 1053), ('Sri Ganganagar', 1505)],\n",
       " 'Pakur': [('Daudnagar', 447), ('Hanamkonda', 1521)],\n",
       " 'Daudnagar': [('Raebareli', 435),\n",
       "  ('Delhi', 967),\n",
       "  ('Pakur', 447),\n",
       "  ('Pakur', 447)],\n",
       " 'Sarangarh': [('Sri Ganganagar', 1620)],\n",
       " 'Faridabad': [('Bhopal', 744), ('Palamu', 1030)],\n",
       " 'Bundi': [('Jodhpur', 337)],\n",
       " 'Rohtas': [('Lucknow', 436), ('Rohtas', 0), ('Rohtas', 0)],\n",
       " 'Baghpat': [('Mirzapur', 760)],\n",
       " 'Kota': [('Rajsamand', 251), ('Madhepura', 1260), ('Palamu', 1053)],\n",
       " 'Lakhimpur': [],\n",
       " 'Lucknow': [('Mahoba', 229), ('Rohtas', 436)],\n",
       " 'Prayagraj': [('Rajsamand', 961)],\n",
       " 'Sitamarhi': [('Madhepura', 118)],\n",
       " 'Sagar': [('Gaya', 820), ('Sikar', 727)],\n",
       " 'Arrah': [],\n",
       " 'Jodhpur': [('Bundi', 337), ('Raebareli', 957), ('Una', 842)],\n",
       " 'Agra': [('Belagavi', 1561), ('Patna', 838)],\n",
       " 'Mirzapur': [('Baghpat', 760)],\n",
       " 'Delhi': [('Daudnagar', 967)],\n",
       " 'Madhepura': [('Kota', 1260), ('Una', 1489), ('Sitamarhi', 118)],\n",
       " 'Nawada': [('Aligarh', 934), ('Jaipur', 1169), ('Rajsamand', 1389)],\n",
       " 'Belagavi': [('Agra', 1561), ('Bikaner', 1630)],\n",
       " 'Calicut': [],\n",
       " 'Raebareli': [('Daudnagar', 435),\n",
       "  ('Jodhpur', 957),\n",
       "  ('Mahoba', 196),\n",
       "  ('Sitapur', 167)],\n",
       " 'Una': [('Ghazipur', 1198), ('Madhepura', 1489), ('Jodhpur', 842)],\n",
       " 'Chitrakoot': [],\n",
       " 'Araria': [],\n",
       " 'Aligarh': [('Gaya', 874), ('Nawada', 934)]}"
      ]
     },
     "execution_count": 14,
     "metadata": {},
     "output_type": "execute_result"
    }
   ],
   "source": [
    "adj_lst = G.adjList()    # This method return the adjancy list of the Random connected graph.\n",
    "adj_lst\n"
   ]
  },
  {
   "cell_type": "code",
   "execution_count": null,
   "metadata": {},
   "outputs": [],
   "source": [
    "df2 = pd.read_csv('random_connected_graph.csv')\n",
    "G1 = Graph()\n",
    "G1.add_nodes(df2['node1'])\n",
    "G1.add_nodes(df2['node2'])\n",
    "\n",
    "for _, row in df2.iterrows():\n",
    "    node1 = row['node1']\n",
    "    node2 = row['node2']\n",
    "    route_distance = row['route_distance']\n",
    "    heuristic_distance = row['Heuristic distance']\n",
    "    G1.add_edge(node1, node2, route_distance, heuristic_distance, direction = False)\n"
   ]
  },
  {
   "cell_type": "code",
   "execution_count": null,
   "metadata": {},
   "outputs": [
    {
     "data": {
      "text/plain": [
       "{'Jehanabad': [('Balaghat', 882),\n",
       "  ('Jodhpur', 1441),\n",
       "  ('Mahoba', 604),\n",
       "  ('Nawada', 90)],\n",
       " 'Bhagalpur': [('Raebareli', 704), ('Jaipur', 1307), ('Pakur', 151)],\n",
       " 'Durgapur': [],\n",
       " 'Sikar': [('Mahoba', 721)],\n",
       " 'Jaipur': [('Bhagalpur', 1307), ('Gaya', 1109), ('Madhepura', 1206)],\n",
       " 'Ghazipur': [('Chitrakoot', 326), ('Sarangarh', 689), ('Sitamarhi', 289)],\n",
       " 'Gaya': [('Jaipur', 1109), ('Balaghat', 871)],\n",
       " 'Hanamkonda': [],\n",
       " 'Bikaner': [('Morena', 622), ('Delhi', 423), ('Mahoba', 941), ('Sagar', 919)],\n",
       " 'Mahoba': [('Bikaner', 941),\n",
       "  ('Delhi', 587),\n",
       "  ('Jodhpur', 853),\n",
       "  ('Lucknow', 229),\n",
       "  ('Jehanabad', 604),\n",
       "  ('Sri Ganganagar', 989),\n",
       "  ('Sikar', 721)],\n",
       " 'Balaghat': [('Araria', 1210), ('Gaya', 871), ('Jehanabad', 882)],\n",
       " 'Bhopal': [('Daudnagar', 915), ('Jodhpur', 724)],\n",
       " 'Patna': [('Rajsamand', 1376)],\n",
       " 'Morena': [('Bikaner', 622), ('Mirzapur', 573), ('Agra', 84)],\n",
       " 'Rajsamand': [('Daudnagar', 1259), ('Patna', 1376), ('Faridabad', 607)],\n",
       " 'Sitapur': [('Belagavi', 1809), ('Madhepura', 725)],\n",
       " 'Sri Ganganagar': [('Mahoba', 989)],\n",
       " 'Palamu': [],\n",
       " 'Pakur': [('Bhagalpur', 151)],\n",
       " 'Daudnagar': [('Bhopal', 915), ('Rajsamand', 1259)],\n",
       " 'Sarangarh': [('Ghazipur', 689)],\n",
       " 'Faridabad': [('Chitrakoot', 599), ('Rajsamand', 607)],\n",
       " 'Bundi': [('Araria', 1421),\n",
       "  ('Calicut', 1927),\n",
       "  ('Chitrakoot', 638),\n",
       "  ('Lucknow', 674)],\n",
       " 'Rohtas': [('Mirzapur', 181), ('Mirzapur', 181)],\n",
       " 'Baghpat': [],\n",
       " 'Kota': [],\n",
       " 'Lakhimpur': [],\n",
       " 'Lucknow': [('Bundi', 674), ('Mahoba', 229)],\n",
       " 'Prayagraj': [('Araria', 671)],\n",
       " 'Sitamarhi': [('Ghazipur', 289)],\n",
       " 'Sagar': [('Bikaner', 919)],\n",
       " 'Arrah': [],\n",
       " 'Jodhpur': [('Bhopal', 724), ('Mahoba', 853), ('Jehanabad', 1441)],\n",
       " 'Agra': [('Morena', 84)],\n",
       " 'Mirzapur': [('Morena', 573), ('Rohtas', 181), ('Rohtas', 181)],\n",
       " 'Delhi': [('Bikaner', 423), ('Mahoba', 587)],\n",
       " 'Madhepura': [('Sitapur', 725), ('Jaipur', 1206)],\n",
       " 'Nawada': [('Jehanabad', 90), ('Jehanabad', 90)],\n",
       " 'Belagavi': [('Sitapur', 1809)],\n",
       " 'Calicut': [('Bundi', 1927)],\n",
       " 'Raebareli': [('Bhagalpur', 704), ('Chitrakoot', 151)],\n",
       " 'Una': [],\n",
       " 'Chitrakoot': [('Bundi', 638),\n",
       "  ('Ghazipur', 326),\n",
       "  ('Faridabad', 599),\n",
       "  ('Raebareli', 151)],\n",
       " 'Araria': [('Balaghat', 1210), ('Bundi', 1421), ('Prayagraj', 671)],\n",
       " 'Aligarh': []}"
      ]
     },
     "execution_count": 6,
     "metadata": {},
     "output_type": "execute_result"
    }
   ],
   "source": [
    "adj_lst = G.adjList()\n",
    "adj_lst"
   ]
  },
  {
   "cell_type": "code",
   "execution_count": null,
   "metadata": {},
   "outputs": [
    {
     "data": {
      "text/plain": [
       "35"
      ]
     },
     "execution_count": 18,
     "metadata": {},
     "output_type": "execute_result"
    }
   ],
   "source": [
    "visited_node_lst = []\n",
    "def DFS(start_node):\n",
    "\tif start_node not in visited_node_lst:\n",
    "\t\tvisited_node_lst.append(start_node)\n",
    "\t\tfor node in adj_lst[start_node]:\n",
    "\t\t\tDFS(node[0])\n",
    "\n",
    "DFS(G._nodes[0])\n",
    "len(visited_node_lst)"
   ]
  },
  {
   "cell_type": "code",
   "execution_count": null,
   "metadata": {},
   "outputs": [],
   "source": []
  },
  {
   "cell_type": "code",
   "execution_count": null,
   "metadata": {},
   "outputs": [
    {
     "data": {
      "text/plain": [
       "{'Jehanabad': [('Balaghat', 882),\n",
       "  ('Jodhpur', 1441),\n",
       "  ('Mahoba', 604),\n",
       "  ('Nawada', 90)],\n",
       " 'Bhagalpur': [('Raebareli', 704), ('Jaipur', 1307), ('Pakur', 151)],\n",
       " 'Durgapur': [],\n",
       " 'Sikar': [('Mahoba', 721)],\n",
       " 'Jaipur': [('Bhagalpur', 1307), ('Gaya', 1109), ('Madhepura', 1206)],\n",
       " 'Ghazipur': [('Chitrakoot', 326), ('Sarangarh', 689), ('Sitamarhi', 289)],\n",
       " 'Gaya': [('Jaipur', 1109), ('Balaghat', 871)],\n",
       " 'Hanamkonda': [],\n",
       " 'Bikaner': [('Morena', 622), ('Delhi', 423), ('Mahoba', 941), ('Sagar', 919)],\n",
       " 'Mahoba': [('Bikaner', 941),\n",
       "  ('Delhi', 587),\n",
       "  ('Jodhpur', 853),\n",
       "  ('Lucknow', 229),\n",
       "  ('Jehanabad', 604),\n",
       "  ('Sri Ganganagar', 989),\n",
       "  ('Sikar', 721)],\n",
       " 'Balaghat': [('Araria', 1210), ('Gaya', 871), ('Jehanabad', 882)],\n",
       " 'Bhopal': [('Daudnagar', 915), ('Jodhpur', 724)],\n",
       " 'Patna': [('Rajsamand', 1376)],\n",
       " 'Morena': [('Bikaner', 622), ('Mirzapur', 573), ('Agra', 84)],\n",
       " 'Rajsamand': [('Daudnagar', 1259), ('Patna', 1376), ('Faridabad', 607)],\n",
       " 'Sitapur': [('Belagavi', 1809), ('Madhepura', 725)],\n",
       " 'Sri Ganganagar': [('Mahoba', 989)],\n",
       " 'Palamu': [],\n",
       " 'Pakur': [('Bhagalpur', 151)],\n",
       " 'Daudnagar': [('Bhopal', 915), ('Rajsamand', 1259)],\n",
       " 'Sarangarh': [('Ghazipur', 689)],\n",
       " 'Faridabad': [('Chitrakoot', 599), ('Rajsamand', 607)],\n",
       " 'Bundi': [('Araria', 1421),\n",
       "  ('Calicut', 1927),\n",
       "  ('Chitrakoot', 638),\n",
       "  ('Lucknow', 674)],\n",
       " 'Rohtas': [('Mirzapur', 181), ('Mirzapur', 181)],\n",
       " 'Baghpat': [],\n",
       " 'Kota': [],\n",
       " 'Lakhimpur': [],\n",
       " 'Lucknow': [('Bundi', 674), ('Mahoba', 229)],\n",
       " 'Prayagraj': [('Araria', 671)],\n",
       " 'Sitamarhi': [('Ghazipur', 289)],\n",
       " 'Sagar': [('Bikaner', 919)],\n",
       " 'Arrah': [],\n",
       " 'Jodhpur': [('Bhopal', 724), ('Mahoba', 853), ('Jehanabad', 1441)],\n",
       " 'Agra': [('Morena', 84)],\n",
       " 'Mirzapur': [('Morena', 573), ('Rohtas', 181), ('Rohtas', 181)],\n",
       " 'Delhi': [('Bikaner', 423), ('Mahoba', 587)],\n",
       " 'Madhepura': [('Sitapur', 725), ('Jaipur', 1206)],\n",
       " 'Nawada': [('Jehanabad', 90), ('Jehanabad', 90)],\n",
       " 'Belagavi': [('Sitapur', 1809)],\n",
       " 'Calicut': [('Bundi', 1927)],\n",
       " 'Raebareli': [('Bhagalpur', 704), ('Chitrakoot', 151)],\n",
       " 'Una': [],\n",
       " 'Chitrakoot': [('Bundi', 638),\n",
       "  ('Ghazipur', 326),\n",
       "  ('Faridabad', 599),\n",
       "  ('Raebareli', 151)],\n",
       " 'Araria': [('Balaghat', 1210), ('Bundi', 1421), ('Prayagraj', 671)],\n",
       " 'Aligarh': []}"
      ]
     },
     "execution_count": 8,
     "metadata": {},
     "output_type": "execute_result"
    }
   ],
   "source": [
    "adj_lst = G.adjList()    # THis method return the adjancy list of the Random connected graph.\n",
    "adj_lst"
   ]
  },
  {
   "cell_type": "code",
   "execution_count": null,
   "metadata": {},
   "outputs": [
    {
     "name": "stdout",
     "output_type": "stream",
     "text": [
      "Shortest path from Rajsamand to Patna: ['Rajsamand', 'Patna']\n",
      "Shortest path length: 1\n"
     ]
    }
   ],
   "source": [
    "df = pd.read_csv('random_connected_graph.csv')\n",
    "G = nx.Graph()     # Creating Graph object.\n",
    "\n",
    "\"\"\"\n",
    "In this code we are calculating the shortest path from the City-A to City-B with the help of networkx library.\n",
    "shortest_path is a method in a networkx library which takes start node, target node as a input parameters.\n",
    "\"\"\"\n",
    "\n",
    "for _, row in df.iterrows():\n",
    "    node1 = row['node1']\n",
    "    node2 = row['node2']\n",
    "    route_distance = row['route_distance']\n",
    "\n",
    "    G.add_node(node1)   # We are adding the node.\n",
    "    G.add_node(node2)   # We are adding the node.\n",
    "\n",
    "    G.add_edge(node1, node2, weight=int(route_distance))    # We are adding the edge between the nodes.\n",
    "\n",
    "source_node = 'Rajsamand'    # Start Node\n",
    "target_node = 'Patna'        # Target Node\n",
    "shortest_path = nx.shortest_path(G, source=source_node, target=target_node, weight='route_distance')    # This method return shortest path from city-A to city-B.\n",
    "shortest_path_length = nx.shortest_path_length(G, source=source_node, target=target_node, weight='route_distance')    # THis method return cost of the shortest path between City-A to City-B.\n",
    "print(f\"Shortest path from {source_node} to {target_node}: {shortest_path}\")\n",
    "print(f\"Shortest path length: {shortest_path_length}\")"
   ]
  }
 ],
 "metadata": {
  "kernelspec": {
   "display_name": "Python 3 (ipykernel)",
   "language": "python",
   "name": "python3"
  },
  "language_info": {
   "codemirror_mode": {
    "name": "ipython",
    "version": 3
   },
   "file_extension": ".py",
   "mimetype": "text/x-python",
   "name": "python",
   "nbconvert_exporter": "python",
   "pygments_lexer": "ipython3",
   "version": "3.10.8"
  }
 },
 "nbformat": 4,
 "nbformat_minor": 2
}
