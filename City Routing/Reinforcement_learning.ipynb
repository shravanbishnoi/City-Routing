{
 "cells": [
  {
   "cell_type": "code",
   "execution_count": 2,
   "metadata": {},
   "outputs": [],
   "source": [
    "import random\n",
    "import pandas as pd\n",
    "import copy"
   ]
  },
  {
   "cell_type": "code",
   "execution_count": 3,
   "metadata": {},
   "outputs": [],
   "source": [
    "# Creating a dict of total states.\n",
    "queue = [0]\n",
    "states = {0: (['_']*9, [0]*9)}\n",
    "stateValue = [0]*9\n",
    "count = 0\n",
    "def createStateTree(node, action):\n",
    "    global count, stateValue\n",
    "    if node in queue:\n",
    "        \n",
    "        finalState = False\n",
    "        for key, value in states.items():\n",
    "            finalState = False\n",
    "            if '_' in value[0]:\n",
    "                break\n",
    "            else:\n",
    "                finalState = True\n",
    "        if finalState:\n",
    "            return None\n",
    "        emptyIndices = [i for i in range(len(states[queue[0]][0])) if states[queue[0]][0][i]=='_']\n",
    "        for i in range(len(emptyIndices)):\n",
    "            count += 1\n",
    "            states[count] = copy.deepcopy(states[queue[0]])\n",
    "            states[count][0][emptyIndices[i]] = action\n",
    "            queue.append(count)\n",
    "        queue.pop(0)\n",
    "        if action==\"X\":\n",
    "            createStateTree(node+1,\"O\")\n",
    "        elif action==\"O\":\n",
    "            createStateTree(node+1,\"X\")\n",
    "    else:\n",
    "        return None\n",
    "\n"
   ]
  },
  {
   "cell_type": "code",
   "execution_count": 4,
   "metadata": {},
   "outputs": [
    {
     "ename": "",
     "evalue": "",
     "output_type": "error",
     "traceback": [
      "\u001b[1;31mThe Kernel crashed while executing code in the the current cell or a previous cell. Please review the code in the cell(s) to identify a possible cause of the failure. Click <a href='https://aka.ms/vscodeJupyterKernelCrash'>here</a> for more info. View Jupyter <a href='command:jupyter.viewOutput'>log</a> for further details."
     ]
    }
   ],
   "source": [
    "createStateTree(0, \"X\")"
   ]
  },
  {
   "cell_type": "code",
   "execution_count": 4,
   "metadata": {},
   "outputs": [],
   "source": [
    "def ticTackToeTraining():\n",
    "    dict = {}\n",
    "    actions = ['O', 'X']\n",
    "    startState = ['_']*9\n",
    "    stateValue = [0]*9\n",
    "    dict[0] = (startState, stateValue)\n",
    "    for position in range(9):\n",
    "        for action in actions:\n",
    "            emptyIndices = [i for i in range(len(startState)) if startState[i]=='_']\n",
    "            idx = random.choice(emptyIndices)\n",
    "            startState[idx] = action\n",
    "            print(startState)"
   ]
  },
  {
   "cell_type": "code",
   "execution_count": 5,
   "metadata": {},
   "outputs": [
    {
     "name": "stdout",
     "output_type": "stream",
     "text": [
      "['_', '_', '_', '_', '_', '_', '_', 'O', '_']\n",
      "['_', '_', '_', '_', 'X', '_', '_', 'O', '_']\n",
      "['_', 'O', '_', '_', 'X', '_', '_', 'O', '_']\n",
      "['_', 'O', 'X', '_', 'X', '_', '_', 'O', '_']\n",
      "['_', 'O', 'X', '_', 'X', '_', '_', 'O', 'O']\n",
      "['_', 'O', 'X', 'X', 'X', '_', '_', 'O', 'O']\n",
      "['_', 'O', 'X', 'X', 'X', 'O', '_', 'O', 'O']\n",
      "['X', 'O', 'X', 'X', 'X', 'O', '_', 'O', 'O']\n",
      "['X', 'O', 'X', 'X', 'X', 'O', 'O', 'O', 'O']\n"
     ]
    },
    {
     "ename": "IndexError",
     "evalue": "list index out of range",
     "output_type": "error",
     "traceback": [
      "\u001b[1;31m---------------------------------------------------------------------------\u001b[0m",
      "\u001b[1;31mIndexError\u001b[0m                                Traceback (most recent call last)",
      "\u001b[1;32mc:\\Users\\Shravan Bishnoi\\OneDrive\\Desktop\\AI\\Heuristic_project\\City dataset\\City dataset\\Reinforcement_learning.ipynb Cell 5\u001b[0m line \u001b[0;36m1\n\u001b[1;32m----> <a href='vscode-notebook-cell:/c%3A/Users/Shravan%20Bishnoi/OneDrive/Desktop/AI/Heuristic_project/City%20dataset/City%20dataset/Reinforcement_learning.ipynb#W4sZmlsZQ%3D%3D?line=0'>1</a>\u001b[0m ticTackToeTraining()\n",
      "\u001b[1;32mc:\\Users\\Shravan Bishnoi\\OneDrive\\Desktop\\AI\\Heuristic_project\\City dataset\\City dataset\\Reinforcement_learning.ipynb Cell 5\u001b[0m line \u001b[0;36m1\n\u001b[0;32m      <a href='vscode-notebook-cell:/c%3A/Users/Shravan%20Bishnoi/OneDrive/Desktop/AI/Heuristic_project/City%20dataset/City%20dataset/Reinforcement_learning.ipynb#W4sZmlsZQ%3D%3D?line=7'>8</a>\u001b[0m \u001b[39mfor\u001b[39;00m action \u001b[39min\u001b[39;00m actions:\n\u001b[0;32m      <a href='vscode-notebook-cell:/c%3A/Users/Shravan%20Bishnoi/OneDrive/Desktop/AI/Heuristic_project/City%20dataset/City%20dataset/Reinforcement_learning.ipynb#W4sZmlsZQ%3D%3D?line=8'>9</a>\u001b[0m     emptyIndices \u001b[39m=\u001b[39m [i \u001b[39mfor\u001b[39;00m i \u001b[39min\u001b[39;00m \u001b[39mrange\u001b[39m(\u001b[39mlen\u001b[39m(startState)) \u001b[39mif\u001b[39;00m startState[i]\u001b[39m==\u001b[39m\u001b[39m'\u001b[39m\u001b[39m_\u001b[39m\u001b[39m'\u001b[39m]\n\u001b[1;32m---> <a href='vscode-notebook-cell:/c%3A/Users/Shravan%20Bishnoi/OneDrive/Desktop/AI/Heuristic_project/City%20dataset/City%20dataset/Reinforcement_learning.ipynb#W4sZmlsZQ%3D%3D?line=9'>10</a>\u001b[0m     idx \u001b[39m=\u001b[39m random\u001b[39m.\u001b[39;49mchoice(emptyIndices)\n\u001b[0;32m     <a href='vscode-notebook-cell:/c%3A/Users/Shravan%20Bishnoi/OneDrive/Desktop/AI/Heuristic_project/City%20dataset/City%20dataset/Reinforcement_learning.ipynb#W4sZmlsZQ%3D%3D?line=10'>11</a>\u001b[0m     startState[idx] \u001b[39m=\u001b[39m action\n\u001b[0;32m     <a href='vscode-notebook-cell:/c%3A/Users/Shravan%20Bishnoi/OneDrive/Desktop/AI/Heuristic_project/City%20dataset/City%20dataset/Reinforcement_learning.ipynb#W4sZmlsZQ%3D%3D?line=11'>12</a>\u001b[0m     \u001b[39mprint\u001b[39m(startState)\n",
      "File \u001b[1;32mc:\\Users\\Shravan Bishnoi\\AppData\\Local\\Programs\\Python\\Python310\\lib\\random.py:378\u001b[0m, in \u001b[0;36mRandom.choice\u001b[1;34m(self, seq)\u001b[0m\n\u001b[0;32m    376\u001b[0m \u001b[39m\u001b[39m\u001b[39m\"\"\"Choose a random element from a non-empty sequence.\"\"\"\u001b[39;00m\n\u001b[0;32m    377\u001b[0m \u001b[39m# raises IndexError if seq is empty\u001b[39;00m\n\u001b[1;32m--> 378\u001b[0m \u001b[39mreturn\u001b[39;00m seq[\u001b[39mself\u001b[39;49m\u001b[39m.\u001b[39;49m_randbelow(\u001b[39mlen\u001b[39;49m(seq))]\n",
      "\u001b[1;31mIndexError\u001b[0m: list index out of range"
     ]
    }
   ],
   "source": [
    "ticTackToeTraining()"
   ]
  },
  {
   "cell_type": "code",
   "execution_count": null,
   "metadata": {},
   "outputs": [],
   "source": [
    "# Function to generate all possible next game states for a given state\n",
    "def generate_next_states(state, player):\n",
    "    next_states = {}\n",
    "    for i in range(len(state)):\n",
    "        if state[i] == '_':\n",
    "            new_state = state[:i] + player + state[i + 1:]\n",
    "            next_states[i] = new_state\n",
    "    return next_states\n",
    "\n",
    "# Function to build a game tree\n",
    "def build_game_tree():\n",
    "    game_tree = {}\n",
    "    initial_state = \"_________\"\n",
    "    queue = [(initial_state, 'X')]\n",
    "\n",
    "    while queue:\n",
    "        state, player = queue.pop(0)\n",
    "        if state not in game_tree:\n",
    "            game_tree[state] = {}\n",
    "\n",
    "        next_states = generate_next_states(state, player)\n",
    "        for move, new_state in next_states.items():\n",
    "            game_tree[state][move] = new_state\n",
    "            queue.append((new_state, 'X' if player == 'O' else 'O'))\n",
    "\n",
    "    return game_tree\n",
    "\n",
    "# Build the game tree\n",
    "game_tree = build_game_tree()\n",
    "\n",
    "# You can access the game states and their possible moves like this:\n",
    "initial_state = \"_________\"\n",
    "next_states = game_tree[initial_state]\n",
    "\n",
    "# Print the next states and their moves\n",
    "for move, state in next_states.items():\n",
    "    print(f\"Move {move}: {state}\")\n"
   ]
  },
  {
   "cell_type": "code",
   "execution_count": null,
   "metadata": {},
   "outputs": [],
   "source": []
  }
 ],
 "metadata": {
  "kernelspec": {
   "display_name": "Python 3",
   "language": "python",
   "name": "python3"
  },
  "language_info": {
   "codemirror_mode": {
    "name": "ipython",
    "version": 3
   },
   "file_extension": ".py",
   "mimetype": "text/x-python",
   "name": "python",
   "nbconvert_exporter": "python",
   "pygments_lexer": "ipython3",
   "version": "3.10.8"
  }
 },
 "nbformat": 4,
 "nbformat_minor": 2
}
