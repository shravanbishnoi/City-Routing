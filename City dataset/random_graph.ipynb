{
 "cells": [
  {
   "cell_type": "markdown",
   "metadata": {},
   "source": [
    "<h1>Functions available in Graph class</h1>\n",
    "<ul>\n",
    "    <li>maximum_dropout:- for returning the maximum dropout value\n",
    "    <li>add_node:- for adding one node only</li>\n",
    "    <li>add_nodes:- for adding multiple nodes at a time</li>\n",
    "    <li>add_edge:- for adding edge between given two nodes</li>\n",
    "    <li>edges:- for returning edges in the graph</li> \n",
    "    <li>adjList:- for returning the adjacency list of the graph</li>\n",
    "    <li>nodeDegree:- for finding the degree of any node</li>\n",
    "    <li>randomGraphCreater:- for converting complete graph to incomplete connected graph</li>\n",
    "</ul>"
   ]
  },
  {
   "cell_type": "code",
   "execution_count": 30,
   "metadata": {},
   "outputs": [],
   "source": [
    "# importing the required modules\n",
    "import pandas as pd\n",
    "import networkx as nx\n",
    "from RandomGraph import Graph"
   ]
  },
  {
   "cell_type": "code",
   "execution_count": 31,
   "metadata": {},
   "outputs": [
    {
     "name": "stdout",
     "output_type": "stream",
     "text": [
      "Maximum dropout can be :-  0.9782716049382716\n"
     ]
    }
   ],
   "source": [
    "# reading the 'Complete_graph.csv' file\n",
    "csv_file_path = 'Complete_graph.csv'\n",
    "df = pd.read_csv(csv_file_path)\n",
    "\n",
    "G = Graph()\n",
    "\n",
    "# Add nodes to the graph.\n",
    "    \n",
    "G.add_nodes(df['node1'].unique())\n",
    "\n",
    "for i, row in df.iterrows():\n",
    "    node1 = row['node1']\n",
    "    node2 = row['node2']\n",
    "    route_distance = row['route_distance']\n",
    "    heuristic_distance = row['Heuristic distance']\n",
    "    G.add_edge(node1, node2, route_distance, heuristic_distance)\n",
    "\n",
    "\n",
    "a = G.maximum_dropout()\n",
    "print(\"Maximum dropout can be :- \" , a)\n"
   ]
  },
  {
   "cell_type": "code",
   "execution_count": 32,
   "metadata": {},
   "outputs": [],
   "source": [
    "dropout = float(input(f'Enter dropout rate between 0 and {a}'))"
   ]
  },
  {
   "cell_type": "code",
   "execution_count": 33,
   "metadata": {},
   "outputs": [
    {
     "name": "stderr",
     "output_type": "stream",
     "text": [
      "Removing Edges: 1852it [01:53, 16.35it/s]                          \n"
     ]
    },
    {
     "data": {
      "text/plain": [
       "'Random connected graph saved to random_connected_graph.csv'"
      ]
     },
     "execution_count": 33,
     "metadata": {},
     "output_type": "execute_result"
    }
   ],
   "source": [
    "def dropout_graph(G, df, dropout):\n",
    "    \"\"\"\n",
    "    Following function is going to create a random connected graph after removing or droping the edges between nodes in graph.\n",
    "    Amount or number of edges needs to droped is going to be decided by user with certain condition. For doing this we use the \n",
    "    class that we created. Since we want to create connected graph the minimum dropout rate is 0 and maximum will be calculated \n",
    "    from the number of edges in the graph.\n",
    "\n",
    "    Maximum Drouout = 1 - (Total number of unique nodes in graph / Total no of edges in the graph)\n",
    "\n",
    "    Parameter G : graph class object.\n",
    "    Precondition : G must be graph class instance.\n",
    "\n",
    "    Parameter df : dataframe containg our dataset.\n",
    "    Precondition: df must be dataframe.\n",
    "\n",
    "    Parameter dropout: what percent of edges to be removed.\n",
    "    Precondition : dropout is in range [0, maximum dropout).\n",
    "    \"\"\"\n",
    "    # Create a random connected graph by removing randomly selected edges.\n",
    "    random_connected_graph = G.randomGraphCreater(dropout)\n",
    "\n",
    "    output_csv_file = 'random_connected_graph.csv'  \n",
    "    edge_data = list(random_connected_graph)\n",
    "    edge_df = pd.DataFrame(edge_data, columns=['node1', 'node2', 'route_distance', 'Heuristic distance'])\n",
    "    edge_df.to_csv(output_csv_file, index=False)\n",
    "    \n",
    "    return f\"Random connected graph saved to {output_csv_file}\"\n",
    "dropout_graph(G, df, dropout)"
   ]
  },
  {
   "cell_type": "code",
   "execution_count": 34,
   "metadata": {},
   "outputs": [
    {
     "name": "stdout",
     "output_type": "stream",
     "text": [
      "Shortest path from Jodhpur to Lucknow: ['Jodhpur', 'Morena', 'Delhi', 'Baghpat', 'Sitapur', 'Lucknow']\n",
      "Shortest path length: 1502\n"
     ]
    }
   ],
   "source": [
    "df = pd.read_csv('random_connected_graph.csv')\n",
    "G1 = nx.Graph()     # Creating Graph object.\n",
    "\n",
    "\"\"\"\n",
    "In this code we are calculating the shortest path from the City-A to City-B with the help of networkx library.\n",
    "shortest_path is a method in a networkx library which takes start node, target node as a input parameters.\n",
    "\"\"\"\n",
    "\n",
    "for _, row in df.iterrows():\n",
    "    node1 = row['node1']\n",
    "    node2 = row['node2']\n",
    "    route_distance = row['route_distance']\n",
    "\n",
    "    G1.add_node(node1)   # We are adding the node.\n",
    "    G1.add_node(node2)   # We are adding the node.\n",
    "\n",
    "    G1.add_edge(node1, node2, weight=int(route_distance))    # We are adding the edge between the nodes.\n",
    "\n",
    "source_node = 'Jodhpur'    # Start Node\n",
    "target_node = 'Lucknow'        # Target Node\n",
    "shortest_path = nx.shortest_path(G1, source=source_node, target=target_node, weight='weight')    # This method return shortest path from city-A to city-B.\n",
    "shortest_path_length = nx.shortest_path_length(G1, source=source_node, target=target_node, weight='weight')    # This method return cost of the shortest path between City-A to City-B.\n",
    "print(f\"Shortest path from {source_node} to {target_node}: {shortest_path}\")\n",
    "print(f\"Shortest path length: {shortest_path_length}\")"
   ]
  }
 ],
 "metadata": {
  "kernelspec": {
   "display_name": "Python 3 (ipykernel)",
   "language": "python",
   "name": "python3"
  },
  "language_info": {
   "codemirror_mode": {
    "name": "ipython",
    "version": 3
   },
   "file_extension": ".py",
   "mimetype": "text/x-python",
   "name": "python",
   "nbconvert_exporter": "python",
   "pygments_lexer": "ipython3",
   "version": "3.10.8"
  }
 },
 "nbformat": 4,
 "nbformat_minor": 2
}
